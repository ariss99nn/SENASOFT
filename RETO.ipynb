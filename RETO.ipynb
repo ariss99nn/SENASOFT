{
 "cells": [
  {
   "cell_type": "code",
   "execution_count": 45,
   "id": "c0e67a40-90ff-48ac-95c6-d85dc63b20d7",
   "metadata": {},
   "outputs": [],
   "source": [
    "import pandas as pd\n",
    "import numpy as np\n",
    "import matplotlib.pyplot as plt"
   ]
  },
  {
   "cell_type": "code",
   "execution_count": 46,
   "id": "7ad842b9-d703-44c7-acf4-5907d09d3810",
   "metadata": {},
   "outputs": [
    {
     "data": {
      "text/html": [
       "<div>\n",
       "<style scoped>\n",
       "    .dataframe tbody tr th:only-of-type {\n",
       "        vertical-align: middle;\n",
       "    }\n",
       "\n",
       "    .dataframe tbody tr th {\n",
       "        vertical-align: top;\n",
       "    }\n",
       "\n",
       "    .dataframe thead th {\n",
       "        text-align: right;\n",
       "    }\n",
       "</style>\n",
       "<table border=\"1\" class=\"dataframe\">\n",
       "  <thead>\n",
       "    <tr style=\"text-align: right;\">\n",
       "      <th></th>\n",
       "      <th>ID</th>\n",
       "      <th>Nombre</th>\n",
       "      <th>Edad</th>\n",
       "      <th>Género</th>\n",
       "      <th>Ciudad</th>\n",
       "      <th>Comentario</th>\n",
       "      <th>Categoría del problema</th>\n",
       "      <th>Nivel de urgencia</th>\n",
       "      <th>Fecha del reporte</th>\n",
       "      <th>Acceso a internet</th>\n",
       "      <th>Atención previa del gobierno</th>\n",
       "      <th>Zona rural</th>\n",
       "    </tr>\n",
       "  </thead>\n",
       "  <tbody>\n",
       "    <tr>\n",
       "      <th>0</th>\n",
       "      <td>1</td>\n",
       "      <td>Jorge</td>\n",
       "      <td>23.0</td>\n",
       "      <td>Otro</td>\n",
       "      <td>Manizales</td>\n",
       "      <td>las calles están muy oscuras y peligrosas.</td>\n",
       "      <td>Salud</td>\n",
       "      <td>Urgente</td>\n",
       "      <td>2023-08-11</td>\n",
       "      <td>0</td>\n",
       "      <td>1</td>\n",
       "      <td>0</td>\n",
       "    </tr>\n",
       "    <tr>\n",
       "      <th>1</th>\n",
       "      <td>2</td>\n",
       "      <td>Camilo</td>\n",
       "      <td>40.0</td>\n",
       "      <td>Otro</td>\n",
       "      <td>Santa Marta</td>\n",
       "      <td>no tenemos centros culturales ni bibliotecas.</td>\n",
       "      <td>Medio Ambiente</td>\n",
       "      <td>No urgente</td>\n",
       "      <td>2023-04-12</td>\n",
       "      <td>1</td>\n",
       "      <td>1</td>\n",
       "      <td>1</td>\n",
       "    </tr>\n",
       "    <tr>\n",
       "      <th>2</th>\n",
       "      <td>3</td>\n",
       "      <td>Pedro</td>\n",
       "      <td>35.0</td>\n",
       "      <td>Otro</td>\n",
       "      <td>Medellín</td>\n",
       "      <td>las basuras no se recogen a tiempo.</td>\n",
       "      <td>Medio Ambiente</td>\n",
       "      <td>No urgente</td>\n",
       "      <td>2023-06-09</td>\n",
       "      <td>1</td>\n",
       "      <td>1</td>\n",
       "      <td>0</td>\n",
       "    </tr>\n",
       "    <tr>\n",
       "      <th>3</th>\n",
       "      <td>4</td>\n",
       "      <td>Ana</td>\n",
       "      <td>NaN</td>\n",
       "      <td>F</td>\n",
       "      <td>Bogotá</td>\n",
       "      <td>la contaminación del río está aumentando.</td>\n",
       "      <td>Seguridad</td>\n",
       "      <td>No urgente</td>\n",
       "      <td>2023-06-04</td>\n",
       "      <td>0</td>\n",
       "      <td>1</td>\n",
       "      <td>1</td>\n",
       "    </tr>\n",
       "    <tr>\n",
       "      <th>4</th>\n",
       "      <td>5</td>\n",
       "      <td>Jorge</td>\n",
       "      <td>62.0</td>\n",
       "      <td>M</td>\n",
       "      <td>Manizales</td>\n",
       "      <td>no hay suficientes escuelas públicas.</td>\n",
       "      <td>Seguridad</td>\n",
       "      <td>Urgente</td>\n",
       "      <td>2024-07-10</td>\n",
       "      <td>1</td>\n",
       "      <td>0</td>\n",
       "      <td>1</td>\n",
       "    </tr>\n",
       "  </tbody>\n",
       "</table>\n",
       "</div>"
      ],
      "text/plain": [
       "   ID  Nombre  Edad Género       Ciudad  \\\n",
       "0   1   Jorge  23.0   Otro    Manizales   \n",
       "1   2  Camilo  40.0   Otro  Santa Marta   \n",
       "2   3   Pedro  35.0   Otro     Medellín   \n",
       "3   4     Ana   NaN      F       Bogotá   \n",
       "4   5   Jorge  62.0      M    Manizales   \n",
       "\n",
       "                                      Comentario Categoría del problema  \\\n",
       "0     las calles están muy oscuras y peligrosas.                  Salud   \n",
       "1  no tenemos centros culturales ni bibliotecas.         Medio Ambiente   \n",
       "2            las basuras no se recogen a tiempo.         Medio Ambiente   \n",
       "3      la contaminación del río está aumentando.              Seguridad   \n",
       "4          no hay suficientes escuelas públicas.              Seguridad   \n",
       "\n",
       "  Nivel de urgencia Fecha del reporte  Acceso a internet  \\\n",
       "0           Urgente        2023-08-11                  0   \n",
       "1        No urgente        2023-04-12                  1   \n",
       "2        No urgente        2023-06-09                  1   \n",
       "3        No urgente        2023-06-04                  0   \n",
       "4           Urgente        2024-07-10                  1   \n",
       "\n",
       "   Atención previa del gobierno  Zona rural  \n",
       "0                             1           0  \n",
       "1                             1           1  \n",
       "2                             1           0  \n",
       "3                             1           1  \n",
       "4                             0           1  "
      ]
     },
     "execution_count": 46,
     "metadata": {},
     "output_type": "execute_result"
    }
   ],
   "source": [
    "df=pd.read_csv(\"dataset_comunidades_senasoft.csv\")\n",
    "df.head()"
   ]
  },
  {
   "cell_type": "code",
   "execution_count": 47,
   "id": "188ae5fb-293c-43ca-a99a-4e5672ed24d8",
   "metadata": {},
   "outputs": [
    {
     "data": {
      "text/plain": [
       "Index(['ID', 'Nombre', 'Edad', 'Género', 'Ciudad', 'Comentario',\n",
       "       'Categoría del problema', 'Nivel de urgencia', 'Fecha del reporte',\n",
       "       'Acceso a internet', 'Atención previa del gobierno', 'Zona rural'],\n",
       "      dtype='object')"
      ]
     },
     "execution_count": 47,
     "metadata": {},
     "output_type": "execute_result"
    }
   ],
   "source": [
    "df.columns\n"
   ]
  },
  {
   "cell_type": "code",
   "execution_count": 48,
   "id": "bb5d8c22-6889-40ed-a012-c13e2f2d846a",
   "metadata": {},
   "outputs": [
    {
     "name": "stdout",
     "output_type": "stream",
     "text": [
      "<class 'pandas.core.frame.DataFrame'>\n",
      "RangeIndex: 10000 entries, 0 to 9999\n",
      "Data columns (total 12 columns):\n",
      " #   Column                        Non-Null Count  Dtype  \n",
      "---  ------                        --------------  -----  \n",
      " 0   ID                            10000 non-null  int64  \n",
      " 1   Nombre                        10000 non-null  object \n",
      " 2   Edad                          9325 non-null   float64\n",
      " 3   Género                        9539 non-null   object \n",
      " 4   Ciudad                        9864 non-null   object \n",
      " 5   Comentario                    9362 non-null   object \n",
      " 6   Categoría del problema        10000 non-null  object \n",
      " 7   Nivel de urgencia             10000 non-null  object \n",
      " 8   Fecha del reporte             10000 non-null  object \n",
      " 9   Acceso a internet             10000 non-null  int64  \n",
      " 10  Atención previa del gobierno  10000 non-null  int64  \n",
      " 11  Zona rural                    10000 non-null  int64  \n",
      "dtypes: float64(1), int64(4), object(7)\n",
      "memory usage: 937.6+ KB\n"
     ]
    }
   ],
   "source": [
    "df.info()"
   ]
  },
  {
   "cell_type": "code",
   "execution_count": 49,
   "id": "1ccbbcfd-57d6-45dd-9151-f5d137b3af03",
   "metadata": {},
   "outputs": [
    {
     "data": {
      "text/html": [
       "<div>\n",
       "<style scoped>\n",
       "    .dataframe tbody tr th:only-of-type {\n",
       "        vertical-align: middle;\n",
       "    }\n",
       "\n",
       "    .dataframe tbody tr th {\n",
       "        vertical-align: top;\n",
       "    }\n",
       "\n",
       "    .dataframe thead th {\n",
       "        text-align: right;\n",
       "    }\n",
       "</style>\n",
       "<table border=\"1\" class=\"dataframe\">\n",
       "  <thead>\n",
       "    <tr style=\"text-align: right;\">\n",
       "      <th></th>\n",
       "      <th>ID</th>\n",
       "      <th>Edad</th>\n",
       "      <th>Acceso a internet</th>\n",
       "      <th>Atención previa del gobierno</th>\n",
       "      <th>Zona rural</th>\n",
       "    </tr>\n",
       "  </thead>\n",
       "  <tbody>\n",
       "    <tr>\n",
       "      <th>count</th>\n",
       "      <td>10000.00000</td>\n",
       "      <td>9325.000000</td>\n",
       "      <td>10000.000000</td>\n",
       "      <td>10000.000000</td>\n",
       "      <td>10000.000000</td>\n",
       "    </tr>\n",
       "    <tr>\n",
       "      <th>mean</th>\n",
       "      <td>5000.50000</td>\n",
       "      <td>47.482895</td>\n",
       "      <td>0.510200</td>\n",
       "      <td>0.494800</td>\n",
       "      <td>0.492800</td>\n",
       "    </tr>\n",
       "    <tr>\n",
       "      <th>std</th>\n",
       "      <td>2886.89568</td>\n",
       "      <td>19.142348</td>\n",
       "      <td>0.499921</td>\n",
       "      <td>0.499998</td>\n",
       "      <td>0.499973</td>\n",
       "    </tr>\n",
       "    <tr>\n",
       "      <th>min</th>\n",
       "      <td>1.00000</td>\n",
       "      <td>15.000000</td>\n",
       "      <td>0.000000</td>\n",
       "      <td>0.000000</td>\n",
       "      <td>0.000000</td>\n",
       "    </tr>\n",
       "    <tr>\n",
       "      <th>25%</th>\n",
       "      <td>2500.75000</td>\n",
       "      <td>31.000000</td>\n",
       "      <td>0.000000</td>\n",
       "      <td>0.000000</td>\n",
       "      <td>0.000000</td>\n",
       "    </tr>\n",
       "    <tr>\n",
       "      <th>50%</th>\n",
       "      <td>5000.50000</td>\n",
       "      <td>48.000000</td>\n",
       "      <td>1.000000</td>\n",
       "      <td>0.000000</td>\n",
       "      <td>0.000000</td>\n",
       "    </tr>\n",
       "    <tr>\n",
       "      <th>75%</th>\n",
       "      <td>7500.25000</td>\n",
       "      <td>64.000000</td>\n",
       "      <td>1.000000</td>\n",
       "      <td>1.000000</td>\n",
       "      <td>1.000000</td>\n",
       "    </tr>\n",
       "    <tr>\n",
       "      <th>max</th>\n",
       "      <td>10000.00000</td>\n",
       "      <td>80.000000</td>\n",
       "      <td>1.000000</td>\n",
       "      <td>1.000000</td>\n",
       "      <td>1.000000</td>\n",
       "    </tr>\n",
       "  </tbody>\n",
       "</table>\n",
       "</div>"
      ],
      "text/plain": [
       "                ID         Edad  Acceso a internet  \\\n",
       "count  10000.00000  9325.000000       10000.000000   \n",
       "mean    5000.50000    47.482895           0.510200   \n",
       "std     2886.89568    19.142348           0.499921   \n",
       "min        1.00000    15.000000           0.000000   \n",
       "25%     2500.75000    31.000000           0.000000   \n",
       "50%     5000.50000    48.000000           1.000000   \n",
       "75%     7500.25000    64.000000           1.000000   \n",
       "max    10000.00000    80.000000           1.000000   \n",
       "\n",
       "       Atención previa del gobierno    Zona rural  \n",
       "count                  10000.000000  10000.000000  \n",
       "mean                       0.494800      0.492800  \n",
       "std                        0.499998      0.499973  \n",
       "min                        0.000000      0.000000  \n",
       "25%                        0.000000      0.000000  \n",
       "50%                        0.000000      0.000000  \n",
       "75%                        1.000000      1.000000  \n",
       "max                        1.000000      1.000000  "
      ]
     },
     "execution_count": 49,
     "metadata": {},
     "output_type": "execute_result"
    }
   ],
   "source": [
    "df.describe()"
   ]
  },
  {
   "cell_type": "code",
   "execution_count": 50,
   "id": "0d595057-999f-4395-bbe3-82c00a7ae9f1",
   "metadata": {},
   "outputs": [
    {
     "data": {
      "text/plain": [
       "array(['Salud', 'Medio Ambiente', 'Seguridad', 'Educación'], dtype=object)"
      ]
     },
     "execution_count": 50,
     "metadata": {},
     "output_type": "execute_result"
    }
   ],
   "source": [
    "df[\"Categoría del problema\"].unique()"
   ]
  },
  {
   "cell_type": "code",
   "execution_count": 51,
   "id": "6a3ce637-515f-46d5-b283-702fc19b2e81",
   "metadata": {},
   "outputs": [
    {
     "data": {
      "text/plain": [
       "array(['Manizales', 'Santa Marta', 'Medellín', 'Bogotá', 'Cartagena',\n",
       "       'Cali', 'Barranquilla', 'Pereira', 'Cúcuta', 'Bucaramanga', nan],\n",
       "      dtype=object)"
      ]
     },
     "execution_count": 51,
     "metadata": {},
     "output_type": "execute_result"
    }
   ],
   "source": [
    "df[\"Ciudad\"].unique()"
   ]
  },
  {
   "cell_type": "code",
   "execution_count": 52,
   "id": "58404923-fb71-414a-8469-05b8833fb2a1",
   "metadata": {},
   "outputs": [
    {
     "data": {
      "text/plain": [
       "array(['las calles están muy oscuras y peligrosas.',\n",
       "       'no tenemos centros culturales ni bibliotecas.',\n",
       "       'las basuras no se recogen a tiempo.',\n",
       "       'la contaminación del río está aumentando.',\n",
       "       'no hay suficientes escuelas públicas.',\n",
       "       'hay problemas con la recolección de basura.',\n",
       "       'necesitamos más acceso a internet en la zona.',\n",
       "       'faltan médicos en el centro de salud.',\n",
       "       'falta agua potable en varias casas.', nan,\n",
       "       'queremos más presencia policial.'], dtype=object)"
      ]
     },
     "execution_count": 52,
     "metadata": {},
     "output_type": "execute_result"
    }
   ],
   "source": [
    "df[\"Comentario\"].unique()"
   ]
  },
  {
   "cell_type": "code",
   "execution_count": 53,
   "id": "bf06c9f6-4407-48c9-8fdc-cde3c698eca6",
   "metadata": {},
   "outputs": [
    {
     "data": {
      "text/plain": [
       "ID                                0\n",
       "Nombre                            0\n",
       "Edad                            675\n",
       "Género                          461\n",
       "Ciudad                          136\n",
       "Comentario                      638\n",
       "Categoría del problema            0\n",
       "Nivel de urgencia                 0\n",
       "Fecha del reporte                 0\n",
       "Acceso a internet                 0\n",
       "Atención previa del gobierno      0\n",
       "Zona rural                        0\n",
       "dtype: int64"
      ]
     },
     "execution_count": 53,
     "metadata": {},
     "output_type": "execute_result"
    }
   ],
   "source": [
    "# df = df.dropna(subset=['Ciudad'])\n",
    "df.isnull().sum()"
   ]
  },
  {
   "cell_type": "code",
   "execution_count": 54,
   "id": "2e99b14d-cb30-458c-b4f9-b6a039e1842f",
   "metadata": {},
   "outputs": [
    {
     "data": {
      "text/html": [
       "<div>\n",
       "<style scoped>\n",
       "    .dataframe tbody tr th:only-of-type {\n",
       "        vertical-align: middle;\n",
       "    }\n",
       "\n",
       "    .dataframe tbody tr th {\n",
       "        vertical-align: top;\n",
       "    }\n",
       "\n",
       "    .dataframe thead th {\n",
       "        text-align: right;\n",
       "    }\n",
       "</style>\n",
       "<table border=\"1\" class=\"dataframe\">\n",
       "  <thead>\n",
       "    <tr style=\"text-align: right;\">\n",
       "      <th></th>\n",
       "      <th>ID</th>\n",
       "      <th>Nombre</th>\n",
       "      <th>Edad</th>\n",
       "      <th>Género</th>\n",
       "      <th>Ciudad</th>\n",
       "      <th>Comentario</th>\n",
       "      <th>Categoría del problema</th>\n",
       "      <th>Nivel de urgencia</th>\n",
       "      <th>Fecha del reporte</th>\n",
       "      <th>Acceso a internet</th>\n",
       "      <th>Atención previa del gobierno</th>\n",
       "      <th>Zona rural</th>\n",
       "    </tr>\n",
       "  </thead>\n",
       "  <tbody>\n",
       "    <tr>\n",
       "      <th>467</th>\n",
       "      <td>468</td>\n",
       "      <td>Camilo</td>\n",
       "      <td>41.0</td>\n",
       "      <td>Otro</td>\n",
       "      <td>Santa Marta</td>\n",
       "      <td>las calles están muy oscuras y peligrosas.</td>\n",
       "      <td>Seguridad</td>\n",
       "      <td>No urgente</td>\n",
       "      <td>2024-04-25</td>\n",
       "      <td>1</td>\n",
       "      <td>1</td>\n",
       "      <td>0</td>\n",
       "    </tr>\n",
       "    <tr>\n",
       "      <th>3645</th>\n",
       "      <td>3646</td>\n",
       "      <td>Ana</td>\n",
       "      <td>50.0</td>\n",
       "      <td>F</td>\n",
       "      <td>Santa Marta</td>\n",
       "      <td>NaN</td>\n",
       "      <td>Salud</td>\n",
       "      <td>Urgente</td>\n",
       "      <td>2023-07-06</td>\n",
       "      <td>0</td>\n",
       "      <td>0</td>\n",
       "      <td>1</td>\n",
       "    </tr>\n",
       "    <tr>\n",
       "      <th>553</th>\n",
       "      <td>554</td>\n",
       "      <td>Pedro</td>\n",
       "      <td>63.0</td>\n",
       "      <td>F</td>\n",
       "      <td>Cúcuta</td>\n",
       "      <td>las basuras no se recogen a tiempo.</td>\n",
       "      <td>Salud</td>\n",
       "      <td>No urgente</td>\n",
       "      <td>2023-02-14</td>\n",
       "      <td>0</td>\n",
       "      <td>1</td>\n",
       "      <td>1</td>\n",
       "    </tr>\n",
       "    <tr>\n",
       "      <th>5192</th>\n",
       "      <td>5193</td>\n",
       "      <td>Pedro</td>\n",
       "      <td>NaN</td>\n",
       "      <td>M</td>\n",
       "      <td>Cartagena</td>\n",
       "      <td>queremos más presencia policial.</td>\n",
       "      <td>Medio Ambiente</td>\n",
       "      <td>No urgente</td>\n",
       "      <td>2023-04-16</td>\n",
       "      <td>1</td>\n",
       "      <td>0</td>\n",
       "      <td>1</td>\n",
       "    </tr>\n",
       "    <tr>\n",
       "      <th>3818</th>\n",
       "      <td>3819</td>\n",
       "      <td>Jorge</td>\n",
       "      <td>78.0</td>\n",
       "      <td>Otro</td>\n",
       "      <td>Pereira</td>\n",
       "      <td>las basuras no se recogen a tiempo.</td>\n",
       "      <td>Educación</td>\n",
       "      <td>Urgente</td>\n",
       "      <td>2023-02-17</td>\n",
       "      <td>1</td>\n",
       "      <td>1</td>\n",
       "      <td>0</td>\n",
       "    </tr>\n",
       "  </tbody>\n",
       "</table>\n",
       "</div>"
      ],
      "text/plain": [
       "        ID  Nombre  Edad Género       Ciudad  \\\n",
       "467    468  Camilo  41.0   Otro  Santa Marta   \n",
       "3645  3646     Ana  50.0      F  Santa Marta   \n",
       "553    554   Pedro  63.0      F       Cúcuta   \n",
       "5192  5193   Pedro   NaN      M    Cartagena   \n",
       "3818  3819   Jorge  78.0   Otro      Pereira   \n",
       "\n",
       "                                      Comentario Categoría del problema  \\\n",
       "467   las calles están muy oscuras y peligrosas.              Seguridad   \n",
       "3645                                         NaN                  Salud   \n",
       "553          las basuras no se recogen a tiempo.                  Salud   \n",
       "5192            queremos más presencia policial.         Medio Ambiente   \n",
       "3818         las basuras no se recogen a tiempo.              Educación   \n",
       "\n",
       "     Nivel de urgencia Fecha del reporte  Acceso a internet  \\\n",
       "467         No urgente        2024-04-25                  1   \n",
       "3645           Urgente        2023-07-06                  0   \n",
       "553         No urgente        2023-02-14                  0   \n",
       "5192        No urgente        2023-04-16                  1   \n",
       "3818           Urgente        2023-02-17                  1   \n",
       "\n",
       "      Atención previa del gobierno  Zona rural  \n",
       "467                              1           0  \n",
       "3645                             0           1  \n",
       "553                              1           1  \n",
       "5192                             0           1  \n",
       "3818                             1           0  "
      ]
     },
     "execution_count": 54,
     "metadata": {},
     "output_type": "execute_result"
    }
   ],
   "source": [
    "df.sample(5)"
   ]
  },
  {
   "cell_type": "code",
   "execution_count": 55,
   "id": "0d604fa5-91b4-4f97-bd80-0f87616fdc71",
   "metadata": {},
   "outputs": [],
   "source": [
    "# Diccionario inverso: comentario → categoría correcta\n",
    "categoria_por_comentario = {\n",
    "    \"faltan médicos en el centro de salud.\": \"Salud\",\n",
    "    \"falta agua potable en varias casas.\": \"Salud\",\n",
    "    \"no hay suficientes escuelas públicas.\": \"Educación\",\n",
    "    \"no tenemos centros culturales ni bibliotecas.\": \"Educación\",\n",
    "    \"necesitamos más acceso a internet en la zona.\": \"Educación\",\n",
    "    \"las calles están muy oscuras y peligrosas.\": \"Seguridad\",\n",
    "    \"queremos más presencia policial.\": \"Seguridad\",\n",
    "    \"las basuras no se recogen a tiempo.\": \"Medio Ambiente\",\n",
    "    \"la contaminación del río está aumentando.\": \"Medio Ambiente\",\n",
    "    \"hay problemas con la recolección de basura.\": \"Medio Ambiente\"\n",
    "}\n",
    "\n",
    "# Función de reasignación de categoría según comentario\n",
    "def asignar_categoria(comentario):\n",
    "    return categoria_por_comentario.get(comentario, np.nan)\n",
    "\n",
    "# Aplicar la reasignación con .loc\n",
    "df.loc[:, \"Categoría del problema\"] = df[\"Comentario\"].apply(asignar_categoria)\n",
    "\n",
    "# Convertir a string nativo (por claridad)\n",
    "df.loc[:, \"Categoría del problema\"] = df[\"Categoría del problema\"].astype(\"string\")\n"
   ]
  },
  {
   "cell_type": "code",
   "execution_count": 56,
   "id": "f7ef8793",
   "metadata": {},
   "outputs": [],
   "source": [
    "df = df.dropna(subset=[\"Categoría del problema\"])"
   ]
  },
  {
   "cell_type": "code",
   "execution_count": 57,
   "id": "fe311dbe-d027-4185-b5df-1326596df8bb",
   "metadata": {},
   "outputs": [
    {
     "data": {
      "text/plain": [
       "array(['las calles están muy oscuras y peligrosas.',\n",
       "       'no tenemos centros culturales ni bibliotecas.',\n",
       "       'las basuras no se recogen a tiempo.',\n",
       "       'la contaminación del río está aumentando.',\n",
       "       'no hay suficientes escuelas públicas.',\n",
       "       'hay problemas con la recolección de basura.',\n",
       "       'necesitamos más acceso a internet en la zona.',\n",
       "       'faltan médicos en el centro de salud.',\n",
       "       'falta agua potable en varias casas.',\n",
       "       'queremos más presencia policial.'], dtype=object)"
      ]
     },
     "execution_count": 57,
     "metadata": {},
     "output_type": "execute_result"
    }
   ],
   "source": [
    "df[\"Comentario\"].unique()"
   ]
  },
  {
   "cell_type": "code",
   "execution_count": 58,
   "id": "fdb0c16c-bf1b-46ea-bdeb-42d16b58cd85",
   "metadata": {},
   "outputs": [
    {
     "data": {
      "text/html": [
       "<div>\n",
       "<style scoped>\n",
       "    .dataframe tbody tr th:only-of-type {\n",
       "        vertical-align: middle;\n",
       "    }\n",
       "\n",
       "    .dataframe tbody tr th {\n",
       "        vertical-align: top;\n",
       "    }\n",
       "\n",
       "    .dataframe thead th {\n",
       "        text-align: right;\n",
       "    }\n",
       "</style>\n",
       "<table border=\"1\" class=\"dataframe\">\n",
       "  <thead>\n",
       "    <tr style=\"text-align: right;\">\n",
       "      <th></th>\n",
       "      <th>ID</th>\n",
       "      <th>Ciudad</th>\n",
       "      <th>Comentario</th>\n",
       "      <th>Categoría del problema</th>\n",
       "      <th>Nivel de urgencia</th>\n",
       "      <th>Fecha del reporte</th>\n",
       "      <th>Acceso a internet</th>\n",
       "      <th>Atención previa del gobierno</th>\n",
       "      <th>Zona rural</th>\n",
       "    </tr>\n",
       "  </thead>\n",
       "  <tbody>\n",
       "    <tr>\n",
       "      <th>0</th>\n",
       "      <td>1</td>\n",
       "      <td>Manizales</td>\n",
       "      <td>las calles están muy oscuras y peligrosas.</td>\n",
       "      <td>Seguridad</td>\n",
       "      <td>Urgente</td>\n",
       "      <td>2023-08-11</td>\n",
       "      <td>0</td>\n",
       "      <td>1</td>\n",
       "      <td>0</td>\n",
       "    </tr>\n",
       "    <tr>\n",
       "      <th>1</th>\n",
       "      <td>2</td>\n",
       "      <td>Santa Marta</td>\n",
       "      <td>no tenemos centros culturales ni bibliotecas.</td>\n",
       "      <td>Educación</td>\n",
       "      <td>No urgente</td>\n",
       "      <td>2023-04-12</td>\n",
       "      <td>1</td>\n",
       "      <td>1</td>\n",
       "      <td>1</td>\n",
       "    </tr>\n",
       "    <tr>\n",
       "      <th>2</th>\n",
       "      <td>3</td>\n",
       "      <td>Medellín</td>\n",
       "      <td>las basuras no se recogen a tiempo.</td>\n",
       "      <td>Medio Ambiente</td>\n",
       "      <td>No urgente</td>\n",
       "      <td>2023-06-09</td>\n",
       "      <td>1</td>\n",
       "      <td>1</td>\n",
       "      <td>0</td>\n",
       "    </tr>\n",
       "    <tr>\n",
       "      <th>3</th>\n",
       "      <td>4</td>\n",
       "      <td>Bogotá</td>\n",
       "      <td>la contaminación del río está aumentando.</td>\n",
       "      <td>Medio Ambiente</td>\n",
       "      <td>No urgente</td>\n",
       "      <td>2023-06-04</td>\n",
       "      <td>0</td>\n",
       "      <td>1</td>\n",
       "      <td>1</td>\n",
       "    </tr>\n",
       "    <tr>\n",
       "      <th>4</th>\n",
       "      <td>5</td>\n",
       "      <td>Manizales</td>\n",
       "      <td>no hay suficientes escuelas públicas.</td>\n",
       "      <td>Educación</td>\n",
       "      <td>Urgente</td>\n",
       "      <td>2024-07-10</td>\n",
       "      <td>1</td>\n",
       "      <td>0</td>\n",
       "      <td>1</td>\n",
       "    </tr>\n",
       "  </tbody>\n",
       "</table>\n",
       "</div>"
      ],
      "text/plain": [
       "   ID       Ciudad                                     Comentario  \\\n",
       "0   1    Manizales     las calles están muy oscuras y peligrosas.   \n",
       "1   2  Santa Marta  no tenemos centros culturales ni bibliotecas.   \n",
       "2   3     Medellín            las basuras no se recogen a tiempo.   \n",
       "3   4       Bogotá      la contaminación del río está aumentando.   \n",
       "4   5    Manizales          no hay suficientes escuelas públicas.   \n",
       "\n",
       "  Categoría del problema Nivel de urgencia Fecha del reporte  \\\n",
       "0              Seguridad           Urgente        2023-08-11   \n",
       "1              Educación        No urgente        2023-04-12   \n",
       "2         Medio Ambiente        No urgente        2023-06-09   \n",
       "3         Medio Ambiente        No urgente        2023-06-04   \n",
       "4              Educación           Urgente        2024-07-10   \n",
       "\n",
       "   Acceso a internet  Atención previa del gobierno  Zona rural  \n",
       "0                  0                             1           0  \n",
       "1                  1                             1           1  \n",
       "2                  1                             1           0  \n",
       "3                  0                             1           1  \n",
       "4                  1                             0           1  "
      ]
     },
     "execution_count": 58,
     "metadata": {},
     "output_type": "execute_result"
    }
   ],
   "source": [
    "df = df.drop(columns=['Edad', 'Nombre','Género'], errors='ignore')\n",
    "df['Fecha del reporte'] = pd.to_datetime(df['Fecha del reporte'], errors='coerce')\n",
    "df.head()"
   ]
  },
  {
   "cell_type": "code",
   "execution_count": 59,
   "id": "16c87284-fe16-45d3-926d-765ffe588fb9",
   "metadata": {},
   "outputs": [],
   "source": [
    "def extraer_por_columna(df, columna):\n",
    "    \"\"\"Devuelve las filas donde la columna indicada tiene valor 1.\"\"\"\n",
    "    return df[df[columna] == 'Urgente']\n"
   ]
  },
  {
   "cell_type": "code",
   "execution_count": 60,
   "id": "4cb0258b-7019-4135-a919-1a3fb8654db7",
   "metadata": {},
   "outputs": [
    {
     "name": "stdout",
     "output_type": "stream",
     "text": [
      "         ID     Ciudad                                     Comentario  \\\n",
      "0         1  Manizales     las calles están muy oscuras y peligrosas.   \n",
      "4         5  Manizales          no hay suficientes escuelas públicas.   \n",
      "7         8     Bogotá          no hay suficientes escuelas públicas.   \n",
      "10       11     Bogotá            falta agua potable en varias casas.   \n",
      "11       12  Manizales      la contaminación del río está aumentando.   \n",
      "...     ...        ...                                            ...   \n",
      "9986   9987     Cúcuta     las calles están muy oscuras y peligrosas.   \n",
      "9991   9992    Pereira    hay problemas con la recolección de basura.   \n",
      "9994   9995  Manizales          faltan médicos en el centro de salud.   \n",
      "9996   9997     Cúcuta    hay problemas con la recolección de basura.   \n",
      "9999  10000    Pereira  necesitamos más acceso a internet en la zona.   \n",
      "\n",
      "     Categoría del problema Nivel de urgencia Fecha del reporte  \\\n",
      "0                 Seguridad           Urgente        2023-08-11   \n",
      "4                 Educación           Urgente        2024-07-10   \n",
      "7                 Educación           Urgente        2023-04-23   \n",
      "10                    Salud           Urgente        2024-04-02   \n",
      "11           Medio Ambiente           Urgente        2023-03-14   \n",
      "...                     ...               ...               ...   \n",
      "9986              Seguridad           Urgente        2024-07-09   \n",
      "9991         Medio Ambiente           Urgente        2023-01-06   \n",
      "9994                  Salud           Urgente        2024-11-20   \n",
      "9996         Medio Ambiente           Urgente        2024-09-30   \n",
      "9999              Educación           Urgente        2024-07-25   \n",
      "\n",
      "      Acceso a internet  Atención previa del gobierno  Zona rural  \n",
      "0                     0                             1           0  \n",
      "4                     1                             0           1  \n",
      "7                     0                             1           0  \n",
      "10                    0                             1           0  \n",
      "11                    1                             1           1  \n",
      "...                 ...                           ...         ...  \n",
      "9986                  1                             1           1  \n",
      "9991                  0                             0           1  \n",
      "9994                  0                             0           1  \n",
      "9996                  0                             0           0  \n",
      "9999                  1                             0           0  \n",
      "\n",
      "[4652 rows x 9 columns]\n"
     ]
    }
   ],
   "source": [
    "acce_df = extraer_por_columna(df, \"Nivel de urgencia\")\n",
    "print(acce_df)\n"
   ]
  },
  {
   "cell_type": "code",
   "execution_count": 61,
   "id": "5ec3da6b-2f82-4ab8-963f-b8a0b8ae6a8f",
   "metadata": {},
   "outputs": [],
   "source": [
    "df = df.dropna(subset=[\"Categoría del problema\"])"
   ]
  },
  {
   "cell_type": "code",
   "execution_count": 63,
   "id": "56ae28c3",
   "metadata": {},
   "outputs": [
    {
     "data": {
      "text/html": [
       "<div>\n",
       "<style scoped>\n",
       "    .dataframe tbody tr th:only-of-type {\n",
       "        vertical-align: middle;\n",
       "    }\n",
       "\n",
       "    .dataframe tbody tr th {\n",
       "        vertical-align: top;\n",
       "    }\n",
       "\n",
       "    .dataframe thead th {\n",
       "        text-align: right;\n",
       "    }\n",
       "</style>\n",
       "<table border=\"1\" class=\"dataframe\">\n",
       "  <thead>\n",
       "    <tr style=\"text-align: right;\">\n",
       "      <th></th>\n",
       "      <th>Comentario</th>\n",
       "      <th>Categoría del problema</th>\n",
       "    </tr>\n",
       "  </thead>\n",
       "  <tbody>\n",
       "    <tr>\n",
       "      <th>0</th>\n",
       "      <td>las calles están muy oscuras y peligrosas.</td>\n",
       "      <td>Seguridad</td>\n",
       "    </tr>\n",
       "    <tr>\n",
       "      <th>1</th>\n",
       "      <td>no tenemos centros culturales ni bibliotecas.</td>\n",
       "      <td>Educación</td>\n",
       "    </tr>\n",
       "    <tr>\n",
       "      <th>2</th>\n",
       "      <td>las basuras no se recogen a tiempo.</td>\n",
       "      <td>Medio Ambiente</td>\n",
       "    </tr>\n",
       "    <tr>\n",
       "      <th>3</th>\n",
       "      <td>la contaminación del río está aumentando.</td>\n",
       "      <td>Medio Ambiente</td>\n",
       "    </tr>\n",
       "    <tr>\n",
       "      <th>4</th>\n",
       "      <td>no hay suficientes escuelas públicas.</td>\n",
       "      <td>Educación</td>\n",
       "    </tr>\n",
       "  </tbody>\n",
       "</table>\n",
       "</div>"
      ],
      "text/plain": [
       "                                      Comentario Categoría del problema\n",
       "0     las calles están muy oscuras y peligrosas.              Seguridad\n",
       "1  no tenemos centros culturales ni bibliotecas.              Educación\n",
       "2            las basuras no se recogen a tiempo.         Medio Ambiente\n",
       "3      la contaminación del río está aumentando.         Medio Ambiente\n",
       "4          no hay suficientes escuelas públicas.              Educación"
      ]
     },
     "execution_count": 63,
     "metadata": {},
     "output_type": "execute_result"
    }
   ],
   "source": [
    "df_u = df[[\"Comentario\", \"Categoría del problema\"]]\n",
    "df_u.head()"
   ]
  },
  {
   "cell_type": "code",
   "execution_count": 68,
   "id": "051427ac",
   "metadata": {},
   "outputs": [
    {
     "name": "stderr",
     "output_type": "stream",
     "text": [
      "C:\\Users\\SENA.MOSAPRCBAFSP147\\AppData\\Local\\Temp\\ipykernel_11144\\647722170.py:8: SettingWithCopyWarning: \n",
      "A value is trying to be set on a copy of a slice from a DataFrame.\n",
      "Try using .loc[row_indexer,col_indexer] = value instead\n",
      "\n",
      "See the caveats in the documentation: https://pandas.pydata.org/pandas-docs/stable/user_guide/indexing.html#returning-a-view-versus-a-copy\n",
      "  df_u[\"Comentario_limpio\"] = df_u[\"Comentario\"].apply(limpiar_texto)\n"
     ]
    }
   ],
   "source": [
    "import re\n",
    "\n",
    "def limpiar_texto(texto):\n",
    "    texto = texto.lower()\n",
    "    texto = re.sub(r'[^a-záéíóúñü\\s]', '', texto)\n",
    "    return texto\n",
    "\n",
    "df_u[\"Comentario_limpio\"] = df_u[\"Comentario\"].apply(limpiar_texto)"
   ]
  },
  {
   "cell_type": "code",
   "execution_count": 69,
   "id": "d6cb883d",
   "metadata": {},
   "outputs": [],
   "source": [
    "from sklearn.model_selection import train_test_split\n",
    "from sklearn.feature_extraction.text import TfidfVectorizer\n",
    "\n",
    "X_train, X_test, y_train, y_test = train_test_split(\n",
    "    df_u[\"Comentario_limpio\"], \n",
    "    df_u[\"Categoría del problema\"], \n",
    "    test_size=0.2, \n",
    "    random_state=42\n",
    ")\n",
    "\n",
    "vectorizador = TfidfVectorizer(max_features=1000)\n",
    "X_train_vec = vectorizador.fit_transform(X_train)\n",
    "X_test_vec = vectorizador.transform(X_test)\n"
   ]
  },
  {
   "cell_type": "code",
   "execution_count": 70,
   "id": "e8df1b6f",
   "metadata": {},
   "outputs": [],
   "source": [
    "from sklearn.model_selection import train_test_split\n",
    "from sklearn.feature_extraction.text import TfidfVectorizer\n",
    "\n",
    "X_train, X_test, y_train, y_test = train_test_split(\n",
    "    df_u[\"Comentario_limpio\"], \n",
    "    df_u[\"Categoría del problema\"], \n",
    "    test_size=0.2, \n",
    "    random_state=42\n",
    ")\n",
    "\n",
    "vectorizador = TfidfVectorizer(max_features=1000)\n",
    "X_train_vec = vectorizador.fit_transform(X_train)\n",
    "X_test_vec = vectorizador.transform(X_test)\n"
   ]
  },
  {
   "cell_type": "code",
   "execution_count": 71,
   "id": "586a1c9e",
   "metadata": {},
   "outputs": [
    {
     "name": "stdout",
     "output_type": "stream",
     "text": [
      "                precision    recall  f1-score   support\n",
      "\n",
      "     Educación       1.00      1.00      1.00       562\n",
      "Medio Ambiente       1.00      1.00      1.00       572\n",
      "         Salud       1.00      1.00      1.00       369\n",
      "     Seguridad       1.00      1.00      1.00       370\n",
      "\n",
      "      accuracy                           1.00      1873\n",
      "     macro avg       1.00      1.00      1.00      1873\n",
      "  weighted avg       1.00      1.00      1.00      1873\n",
      "\n"
     ]
    }
   ],
   "source": [
    "from sklearn.linear_model import LogisticRegression\n",
    "from sklearn.metrics import classification_report, confusion_matrix\n",
    "\n",
    "modelo = LogisticRegression(max_iter=200)\n",
    "modelo.fit(X_train_vec, y_train)\n",
    "\n",
    "# Predicciones\n",
    "y_pred = modelo.predict(X_test_vec)\n",
    "print(classification_report(y_test, y_pred))\n"
   ]
  },
  {
   "cell_type": "code",
   "execution_count": 72,
   "id": "1eb72253",
   "metadata": {},
   "outputs": [
    {
     "data": {
      "image/png": "[encoded data removed]",
      "text/plain": [
       "<Figure size 640x480 with 2 Axes>"
      ]
     },
     "metadata": {},
     "output_type": "display_data"
    }
   ],
   "source": [
    "import seaborn as sns\n",
    "import matplotlib.pyplot as plt\n",
    "from sklearn.metrics import ConfusionMatrixDisplay\n",
    "\n",
    "ConfusionMatrixDisplay.from_estimator(modelo, X_test_vec, y_test, cmap=\"Blues\")\n",
    "plt.title(\"Matriz de confusión del clasificador de problemas sociales\")\n",
    "plt.show()\n"
   ]
  }
 ],
 "metadata": {
  "kernelspec": {
   "display_name": "Python (mi_env)",
   "language": "python",
   "name": "mi_env"
  },
  "language_info": {
   "codemirror_mode": {
    "name": "ipython",
    "version": 3
   },
   "file_extension": ".py",
   "mimetype": "text/x-python",
   "name": "python",
   "nbconvert_exporter": "python",
   "pygments_lexer": "ipython3",
   "version": "3.13.5"
  }
 },
 "nbformat": 4,
 "nbformat_minor": 5
}
