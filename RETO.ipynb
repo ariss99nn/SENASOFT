{
 "cells": [
  {
   "cell_type": "code",
   "execution_count": 1,
   "id": "c0e67a40-90ff-48ac-95c6-d85dc63b20d7",
   "metadata": {},
   "outputs": [],
   "source": [
    "import pandas as pd\n",
    "import numpy as np\n",
    "import matplotlib.pyplot as plt"
   ]
  },
  {
   "cell_type": "code",
   "execution_count": 2,
   "id": "7ad842b9-d703-44c7-acf4-5907d09d3810",
   "metadata": {},
   "outputs": [
    {
     "data": {
      "text/html": [
       "<div>\n",
       "<style scoped>\n",
       "    .dataframe tbody tr th:only-of-type {\n",
       "        vertical-align: middle;\n",
       "    }\n",
       "\n",
       "    .dataframe tbody tr th {\n",
       "        vertical-align: top;\n",
       "    }\n",
       "\n",
       "    .dataframe thead th {\n",
       "        text-align: right;\n",
       "    }\n",
       "</style>\n",
       "<table border=\"1\" class=\"dataframe\">\n",
       "  <thead>\n",
       "    <tr style=\"text-align: right;\">\n",
       "      <th></th>\n",
       "      <th>ID</th>\n",
       "      <th>Nombre</th>\n",
       "      <th>Edad</th>\n",
       "      <th>Género</th>\n",
       "      <th>Ciudad</th>\n",
       "      <th>Comentario</th>\n",
       "      <th>Categoría del problema</th>\n",
       "      <th>Nivel de urgencia</th>\n",
       "      <th>Fecha del reporte</th>\n",
       "      <th>Acceso a internet</th>\n",
       "      <th>Atención previa del gobierno</th>\n",
       "      <th>Zona rural</th>\n",
       "    </tr>\n",
       "  </thead>\n",
       "  <tbody>\n",
       "    <tr>\n",
       "      <th>0</th>\n",
       "      <td>1</td>\n",
       "      <td>Jorge</td>\n",
       "      <td>23.0</td>\n",
       "      <td>Otro</td>\n",
       "      <td>Manizales</td>\n",
       "      <td>las calles están muy oscuras y peligrosas.</td>\n",
       "      <td>Salud</td>\n",
       "      <td>Urgente</td>\n",
       "      <td>2023-08-11</td>\n",
       "      <td>0</td>\n",
       "      <td>1</td>\n",
       "      <td>0</td>\n",
       "    </tr>\n",
       "    <tr>\n",
       "      <th>1</th>\n",
       "      <td>2</td>\n",
       "      <td>Camilo</td>\n",
       "      <td>40.0</td>\n",
       "      <td>Otro</td>\n",
       "      <td>Santa Marta</td>\n",
       "      <td>no tenemos centros culturales ni bibliotecas.</td>\n",
       "      <td>Medio Ambiente</td>\n",
       "      <td>No urgente</td>\n",
       "      <td>2023-04-12</td>\n",
       "      <td>1</td>\n",
       "      <td>1</td>\n",
       "      <td>1</td>\n",
       "    </tr>\n",
       "    <tr>\n",
       "      <th>2</th>\n",
       "      <td>3</td>\n",
       "      <td>Pedro</td>\n",
       "      <td>35.0</td>\n",
       "      <td>Otro</td>\n",
       "      <td>Medellín</td>\n",
       "      <td>las basuras no se recogen a tiempo.</td>\n",
       "      <td>Medio Ambiente</td>\n",
       "      <td>No urgente</td>\n",
       "      <td>2023-06-09</td>\n",
       "      <td>1</td>\n",
       "      <td>1</td>\n",
       "      <td>0</td>\n",
       "    </tr>\n",
       "    <tr>\n",
       "      <th>3</th>\n",
       "      <td>4</td>\n",
       "      <td>Ana</td>\n",
       "      <td>NaN</td>\n",
       "      <td>F</td>\n",
       "      <td>Bogotá</td>\n",
       "      <td>la contaminación del río está aumentando.</td>\n",
       "      <td>Seguridad</td>\n",
       "      <td>No urgente</td>\n",
       "      <td>2023-06-04</td>\n",
       "      <td>0</td>\n",
       "      <td>1</td>\n",
       "      <td>1</td>\n",
       "    </tr>\n",
       "    <tr>\n",
       "      <th>4</th>\n",
       "      <td>5</td>\n",
       "      <td>Jorge</td>\n",
       "      <td>62.0</td>\n",
       "      <td>M</td>\n",
       "      <td>Manizales</td>\n",
       "      <td>no hay suficientes escuelas públicas.</td>\n",
       "      <td>Seguridad</td>\n",
       "      <td>Urgente</td>\n",
       "      <td>2024-07-10</td>\n",
       "      <td>1</td>\n",
       "      <td>0</td>\n",
       "      <td>1</td>\n",
       "    </tr>\n",
       "  </tbody>\n",
       "</table>\n",
       "</div>"
      ],
      "text/plain": [
       "   ID  Nombre  Edad Género       Ciudad  \\\n",
       "0   1   Jorge  23.0   Otro    Manizales   \n",
       "1   2  Camilo  40.0   Otro  Santa Marta   \n",
       "2   3   Pedro  35.0   Otro     Medellín   \n",
       "3   4     Ana   NaN      F       Bogotá   \n",
       "4   5   Jorge  62.0      M    Manizales   \n",
       "\n",
       "                                      Comentario Categoría del problema  \\\n",
       "0     las calles están muy oscuras y peligrosas.                  Salud   \n",
       "1  no tenemos centros culturales ni bibliotecas.         Medio Ambiente   \n",
       "2            las basuras no se recogen a tiempo.         Medio Ambiente   \n",
       "3      la contaminación del río está aumentando.              Seguridad   \n",
       "4          no hay suficientes escuelas públicas.              Seguridad   \n",
       "\n",
       "  Nivel de urgencia Fecha del reporte  Acceso a internet  \\\n",
       "0           Urgente        2023-08-11                  0   \n",
       "1        No urgente        2023-04-12                  1   \n",
       "2        No urgente        2023-06-09                  1   \n",
       "3        No urgente        2023-06-04                  0   \n",
       "4           Urgente        2024-07-10                  1   \n",
       "\n",
       "   Atención previa del gobierno  Zona rural  \n",
       "0                             1           0  \n",
       "1                             1           1  \n",
       "2                             1           0  \n",
       "3                             1           1  \n",
       "4                             0           1  "
      ]
     },
     "execution_count": 2,
     "metadata": {},
     "output_type": "execute_result"
    }
   ],
   "source": [
    "df=pd.read_csv(\"dataset_comunidades_senasoft.csv\")\n",
    "df.head()"
   ]
  },
  {
   "cell_type": "code",
   "execution_count": 3,
   "id": "188ae5fb-293c-43ca-a99a-4e5672ed24d8",
   "metadata": {},
   "outputs": [
    {
     "data": {
      "text/plain": [
       "Index(['ID', 'Nombre', 'Edad', 'Género', 'Ciudad', 'Comentario',\n",
       "       'Categoría del problema', 'Nivel de urgencia', 'Fecha del reporte',\n",
       "       'Acceso a internet', 'Atención previa del gobierno', 'Zona rural'],\n",
       "      dtype='object')"
      ]
     },
     "execution_count": 3,
     "metadata": {},
     "output_type": "execute_result"
    }
   ],
   "source": [
    "df.columns\n"
   ]
  },
  {
   "cell_type": "code",
   "execution_count": 4,
   "id": "bb5d8c22-6889-40ed-a012-c13e2f2d846a",
   "metadata": {},
   "outputs": [
    {
     "name": "stdout",
     "output_type": "stream",
     "text": [
      "<class 'pandas.core.frame.DataFrame'>\n",
      "RangeIndex: 10000 entries, 0 to 9999\n",
      "Data columns (total 12 columns):\n",
      " #   Column                        Non-Null Count  Dtype  \n",
      "---  ------                        --------------  -----  \n",
      " 0   ID                            10000 non-null  int64  \n",
      " 1   Nombre                        10000 non-null  object \n",
      " 2   Edad                          9325 non-null   float64\n",
      " 3   Género                        9539 non-null   object \n",
      " 4   Ciudad                        9864 non-null   object \n",
      " 5   Comentario                    9362 non-null   object \n",
      " 6   Categoría del problema        10000 non-null  object \n",
      " 7   Nivel de urgencia             10000 non-null  object \n",
      " 8   Fecha del reporte             10000 non-null  object \n",
      " 9   Acceso a internet             10000 non-null  int64  \n",
      " 10  Atención previa del gobierno  10000 non-null  int64  \n",
      " 11  Zona rural                    10000 non-null  int64  \n",
      "dtypes: float64(1), int64(4), object(7)\n",
      "memory usage: 937.6+ KB\n"
     ]
    }
   ],
   "source": [
    "df.info()"
   ]
  },
  {
   "cell_type": "code",
   "execution_count": 5,
   "id": "1ccbbcfd-57d6-45dd-9151-f5d137b3af03",
   "metadata": {},
   "outputs": [
    {
     "data": {
      "text/html": [
       "<div>\n",
       "<style scoped>\n",
       "    .dataframe tbody tr th:only-of-type {\n",
       "        vertical-align: middle;\n",
       "    }\n",
       "\n",
       "    .dataframe tbody tr th {\n",
       "        vertical-align: top;\n",
       "    }\n",
       "\n",
       "    .dataframe thead th {\n",
       "        text-align: right;\n",
       "    }\n",
       "</style>\n",
       "<table border=\"1\" class=\"dataframe\">\n",
       "  <thead>\n",
       "    <tr style=\"text-align: right;\">\n",
       "      <th></th>\n",
       "      <th>ID</th>\n",
       "      <th>Edad</th>\n",
       "      <th>Acceso a internet</th>\n",
       "      <th>Atención previa del gobierno</th>\n",
       "      <th>Zona rural</th>\n",
       "    </tr>\n",
       "  </thead>\n",
       "  <tbody>\n",
       "    <tr>\n",
       "      <th>count</th>\n",
       "      <td>10000.00000</td>\n",
       "      <td>9325.000000</td>\n",
       "      <td>10000.000000</td>\n",
       "      <td>10000.000000</td>\n",
       "      <td>10000.000000</td>\n",
       "    </tr>\n",
       "    <tr>\n",
       "      <th>mean</th>\n",
       "      <td>5000.50000</td>\n",
       "      <td>47.482895</td>\n",
       "      <td>0.510200</td>\n",
       "      <td>0.494800</td>\n",
       "      <td>0.492800</td>\n",
       "    </tr>\n",
       "    <tr>\n",
       "      <th>std</th>\n",
       "      <td>2886.89568</td>\n",
       "      <td>19.142348</td>\n",
       "      <td>0.499921</td>\n",
       "      <td>0.499998</td>\n",
       "      <td>0.499973</td>\n",
       "    </tr>\n",
       "    <tr>\n",
       "      <th>min</th>\n",
       "      <td>1.00000</td>\n",
       "      <td>15.000000</td>\n",
       "      <td>0.000000</td>\n",
       "      <td>0.000000</td>\n",
       "      <td>0.000000</td>\n",
       "    </tr>\n",
       "    <tr>\n",
       "      <th>25%</th>\n",
       "      <td>2500.75000</td>\n",
       "      <td>31.000000</td>\n",
       "      <td>0.000000</td>\n",
       "      <td>0.000000</td>\n",
       "      <td>0.000000</td>\n",
       "    </tr>\n",
       "    <tr>\n",
       "      <th>50%</th>\n",
       "      <td>5000.50000</td>\n",
       "      <td>48.000000</td>\n",
       "      <td>1.000000</td>\n",
       "      <td>0.000000</td>\n",
       "      <td>0.000000</td>\n",
       "    </tr>\n",
       "    <tr>\n",
       "      <th>75%</th>\n",
       "      <td>7500.25000</td>\n",
       "      <td>64.000000</td>\n",
       "      <td>1.000000</td>\n",
       "      <td>1.000000</td>\n",
       "      <td>1.000000</td>\n",
       "    </tr>\n",
       "    <tr>\n",
       "      <th>max</th>\n",
       "      <td>10000.00000</td>\n",
       "      <td>80.000000</td>\n",
       "      <td>1.000000</td>\n",
       "      <td>1.000000</td>\n",
       "      <td>1.000000</td>\n",
       "    </tr>\n",
       "  </tbody>\n",
       "</table>\n",
       "</div>"
      ],
      "text/plain": [
       "                ID         Edad  Acceso a internet  \\\n",
       "count  10000.00000  9325.000000       10000.000000   \n",
       "mean    5000.50000    47.482895           0.510200   \n",
       "std     2886.89568    19.142348           0.499921   \n",
       "min        1.00000    15.000000           0.000000   \n",
       "25%     2500.75000    31.000000           0.000000   \n",
       "50%     5000.50000    48.000000           1.000000   \n",
       "75%     7500.25000    64.000000           1.000000   \n",
       "max    10000.00000    80.000000           1.000000   \n",
       "\n",
       "       Atención previa del gobierno    Zona rural  \n",
       "count                  10000.000000  10000.000000  \n",
       "mean                       0.494800      0.492800  \n",
       "std                        0.499998      0.499973  \n",
       "min                        0.000000      0.000000  \n",
       "25%                        0.000000      0.000000  \n",
       "50%                        0.000000      0.000000  \n",
       "75%                        1.000000      1.000000  \n",
       "max                        1.000000      1.000000  "
      ]
     },
     "execution_count": 5,
     "metadata": {},
     "output_type": "execute_result"
    }
   ],
   "source": [
    "df.describe()"
   ]
  },
  {
   "cell_type": "code",
   "execution_count": 6,
   "id": "0d595057-999f-4395-bbe3-82c00a7ae9f1",
   "metadata": {},
   "outputs": [
    {
     "data": {
      "text/plain": [
       "array(['Salud', 'Medio Ambiente', 'Seguridad', 'Educación'], dtype=object)"
      ]
     },
     "execution_count": 6,
     "metadata": {},
     "output_type": "execute_result"
    }
   ],
   "source": [
    "df[\"Categoría del problema\"].unique()"
   ]
  },
  {
   "cell_type": "code",
   "execution_count": 7,
   "id": "6a3ce637-515f-46d5-b283-702fc19b2e81",
   "metadata": {},
   "outputs": [
    {
     "data": {
      "text/plain": [
       "array(['Manizales', 'Santa Marta', 'Medellín', 'Bogotá', 'Cartagena',\n",
       "       'Cali', 'Barranquilla', 'Pereira', 'Cúcuta', 'Bucaramanga', nan],\n",
       "      dtype=object)"
      ]
     },
     "execution_count": 7,
     "metadata": {},
     "output_type": "execute_result"
    }
   ],
   "source": [
    "df[\"Ciudad\"].unique()"
   ]
  },
  {
   "cell_type": "code",
   "execution_count": 8,
   "id": "58404923-fb71-414a-8469-05b8833fb2a1",
   "metadata": {},
   "outputs": [
    {
     "data": {
      "text/plain": [
       "array(['las calles están muy oscuras y peligrosas.',\n",
       "       'no tenemos centros culturales ni bibliotecas.',\n",
       "       'las basuras no se recogen a tiempo.',\n",
       "       'la contaminación del río está aumentando.',\n",
       "       'no hay suficientes escuelas públicas.',\n",
       "       'hay problemas con la recolección de basura.',\n",
       "       'necesitamos más acceso a internet en la zona.',\n",
       "       'faltan médicos en el centro de salud.',\n",
       "       'falta agua potable en varias casas.', nan,\n",
       "       'queremos más presencia policial.'], dtype=object)"
      ]
     },
     "execution_count": 8,
     "metadata": {},
     "output_type": "execute_result"
    }
   ],
   "source": [
    "df[\"Comentario\"].unique()"
   ]
  },
  {
   "cell_type": "code",
   "execution_count": 9,
   "id": "bf06c9f6-4407-48c9-8fdc-cde3c698eca6",
   "metadata": {},
   "outputs": [
    {
     "data": {
      "text/plain": [
       "ID                                0\n",
       "Nombre                            0\n",
       "Edad                            672\n",
       "Género                          453\n",
       "Ciudad                            0\n",
       "Comentario                      628\n",
       "Categoría del problema            0\n",
       "Nivel de urgencia                 0\n",
       "Fecha del reporte                 0\n",
       "Acceso a internet                 0\n",
       "Atención previa del gobierno      0\n",
       "Zona rural                        0\n",
       "dtype: int64"
      ]
     },
     "execution_count": 9,
     "metadata": {},
     "output_type": "execute_result"
    }
   ],
   "source": [
    "df = df.dropna(subset=['Ciudad'])\n",
    "df.isnull().sum()"
   ]
  },
  {
   "cell_type": "code",
   "execution_count": 10,
   "id": "2e99b14d-cb30-458c-b4f9-b6a039e1842f",
   "metadata": {},
   "outputs": [
    {
     "data": {
      "text/html": [
       "<div>\n",
       "<style scoped>\n",
       "    .dataframe tbody tr th:only-of-type {\n",
       "        vertical-align: middle;\n",
       "    }\n",
       "\n",
       "    .dataframe tbody tr th {\n",
       "        vertical-align: top;\n",
       "    }\n",
       "\n",
       "    .dataframe thead th {\n",
       "        text-align: right;\n",
       "    }\n",
       "</style>\n",
       "<table border=\"1\" class=\"dataframe\">\n",
       "  <thead>\n",
       "    <tr style=\"text-align: right;\">\n",
       "      <th></th>\n",
       "      <th>ID</th>\n",
       "      <th>Nombre</th>\n",
       "      <th>Edad</th>\n",
       "      <th>Género</th>\n",
       "      <th>Ciudad</th>\n",
       "      <th>Comentario</th>\n",
       "      <th>Categoría del problema</th>\n",
       "      <th>Nivel de urgencia</th>\n",
       "      <th>Fecha del reporte</th>\n",
       "      <th>Acceso a internet</th>\n",
       "      <th>Atención previa del gobierno</th>\n",
       "      <th>Zona rural</th>\n",
       "    </tr>\n",
       "  </thead>\n",
       "  <tbody>\n",
       "    <tr>\n",
       "      <th>0</th>\n",
       "      <td>1</td>\n",
       "      <td>Jorge</td>\n",
       "      <td>23.0</td>\n",
       "      <td>Otro</td>\n",
       "      <td>Manizales</td>\n",
       "      <td>las calles están muy oscuras y peligrosas.</td>\n",
       "      <td>Salud</td>\n",
       "      <td>Urgente</td>\n",
       "      <td>2023-08-11</td>\n",
       "      <td>0</td>\n",
       "      <td>1</td>\n",
       "      <td>0</td>\n",
       "    </tr>\n",
       "    <tr>\n",
       "      <th>1</th>\n",
       "      <td>2</td>\n",
       "      <td>Camilo</td>\n",
       "      <td>40.0</td>\n",
       "      <td>Otro</td>\n",
       "      <td>Santa Marta</td>\n",
       "      <td>no tenemos centros culturales ni bibliotecas.</td>\n",
       "      <td>Medio Ambiente</td>\n",
       "      <td>No urgente</td>\n",
       "      <td>2023-04-12</td>\n",
       "      <td>1</td>\n",
       "      <td>1</td>\n",
       "      <td>1</td>\n",
       "    </tr>\n",
       "    <tr>\n",
       "      <th>2</th>\n",
       "      <td>3</td>\n",
       "      <td>Pedro</td>\n",
       "      <td>35.0</td>\n",
       "      <td>Otro</td>\n",
       "      <td>Medellín</td>\n",
       "      <td>las basuras no se recogen a tiempo.</td>\n",
       "      <td>Medio Ambiente</td>\n",
       "      <td>No urgente</td>\n",
       "      <td>2023-06-09</td>\n",
       "      <td>1</td>\n",
       "      <td>1</td>\n",
       "      <td>0</td>\n",
       "    </tr>\n",
       "    <tr>\n",
       "      <th>3</th>\n",
       "      <td>4</td>\n",
       "      <td>Ana</td>\n",
       "      <td>NaN</td>\n",
       "      <td>F</td>\n",
       "      <td>Bogotá</td>\n",
       "      <td>la contaminación del río está aumentando.</td>\n",
       "      <td>Seguridad</td>\n",
       "      <td>No urgente</td>\n",
       "      <td>2023-06-04</td>\n",
       "      <td>0</td>\n",
       "      <td>1</td>\n",
       "      <td>1</td>\n",
       "    </tr>\n",
       "    <tr>\n",
       "      <th>4</th>\n",
       "      <td>5</td>\n",
       "      <td>Jorge</td>\n",
       "      <td>62.0</td>\n",
       "      <td>M</td>\n",
       "      <td>Manizales</td>\n",
       "      <td>no hay suficientes escuelas públicas.</td>\n",
       "      <td>Seguridad</td>\n",
       "      <td>Urgente</td>\n",
       "      <td>2024-07-10</td>\n",
       "      <td>1</td>\n",
       "      <td>0</td>\n",
       "      <td>1</td>\n",
       "    </tr>\n",
       "  </tbody>\n",
       "</table>\n",
       "</div>"
      ],
      "text/plain": [
       "   ID  Nombre  Edad Género       Ciudad  \\\n",
       "0   1   Jorge  23.0   Otro    Manizales   \n",
       "1   2  Camilo  40.0   Otro  Santa Marta   \n",
       "2   3   Pedro  35.0   Otro     Medellín   \n",
       "3   4     Ana   NaN      F       Bogotá   \n",
       "4   5   Jorge  62.0      M    Manizales   \n",
       "\n",
       "                                      Comentario Categoría del problema  \\\n",
       "0     las calles están muy oscuras y peligrosas.                  Salud   \n",
       "1  no tenemos centros culturales ni bibliotecas.         Medio Ambiente   \n",
       "2            las basuras no se recogen a tiempo.         Medio Ambiente   \n",
       "3      la contaminación del río está aumentando.              Seguridad   \n",
       "4          no hay suficientes escuelas públicas.              Seguridad   \n",
       "\n",
       "  Nivel de urgencia Fecha del reporte  Acceso a internet  \\\n",
       "0           Urgente        2023-08-11                  0   \n",
       "1        No urgente        2023-04-12                  1   \n",
       "2        No urgente        2023-06-09                  1   \n",
       "3        No urgente        2023-06-04                  0   \n",
       "4           Urgente        2024-07-10                  1   \n",
       "\n",
       "   Atención previa del gobierno  Zona rural  \n",
       "0                             1           0  \n",
       "1                             1           1  \n",
       "2                             1           0  \n",
       "3                             1           1  \n",
       "4                             0           1  "
      ]
     },
     "execution_count": 10,
     "metadata": {},
     "output_type": "execute_result"
    }
   ],
   "source": [
    "df.head()"
   ]
  },
  {
   "cell_type": "code",
   "execution_count": 11,
   "id": "be9abe69-61d6-4f5b-997f-2809f8cc431d",
   "metadata": {},
   "outputs": [
    {
     "data": {
      "text/plain": [
       "array(['Jorge', 'Camilo', 'Pedro', 'Ana', 'María', 'Carlos', 'Laura',\n",
       "       'Sofía', 'Valentina', 'Juan'], dtype=object)"
      ]
     },
     "execution_count": 11,
     "metadata": {},
     "output_type": "execute_result"
    }
   ],
   "source": [
    "df[\"Nombre\"].unique()"
   ]
  },
  {
   "cell_type": "code",
   "execution_count": 12,
   "id": "0d604fa5-91b4-4f97-bd80-0f87616fdc71",
   "metadata": {},
   "outputs": [],
   "source": [
    "# Diccionario inverso: comentario → categoría correcta\n",
    "categoria_por_comentario = {\n",
    "    \"faltan médicos en el centro de salud.\": \"Salud\",\n",
    "    \"falta agua potable en varias casas.\": \"Salud\",\n",
    "    \"no hay suficientes escuelas públicas.\": \"Educación\",\n",
    "    \"no tenemos centros culturales ni bibliotecas.\": \"Educación\",\n",
    "    \"necesitamos más acceso a internet en la zona.\": \"Educación\",\n",
    "    \"las calles están muy oscuras y peligrosas.\": \"Seguridad\",\n",
    "    \"queremos más presencia policial.\": \"Seguridad\",\n",
    "    \"las basuras no se recogen a tiempo.\": \"Medio Ambiente\",\n",
    "    \"la contaminación del río está aumentando.\": \"Medio Ambiente\",\n",
    "    \"hay problemas con la recolección de basura.\": \"Medio Ambiente\"\n",
    "}\n",
    "\n",
    "# Función de reasignación de categoría según comentario\n",
    "def asignar_categoria(comentario):\n",
    "    return categoria_por_comentario.get(comentario, np.nan)\n",
    "\n",
    "# Aplicar la reasignación con .loc\n",
    "df.loc[:, \"Categoría del problema\"] = df[\"Comentario\"].apply(asignar_categoria)\n",
    "\n",
    "# Convertir a string nativo (por claridad)\n",
    "df.loc[:, \"Categoría del problema\"] = df[\"Categoría del problema\"].astype(\"string\")\n"
   ]
  },
  {
   "cell_type": "code",
   "execution_count": 13,
   "id": "f7ef8793",
   "metadata": {},
   "outputs": [],
   "source": [
    "df = df.dropna(subset=[\"Categoría del problema\"])"
   ]
  },
  {
   "cell_type": "code",
   "execution_count": 14,
   "id": "fe311dbe-d027-4185-b5df-1326596df8bb",
   "metadata": {},
   "outputs": [
    {
     "data": {
      "text/plain": [
       "array(['las calles están muy oscuras y peligrosas.',\n",
       "       'no tenemos centros culturales ni bibliotecas.',\n",
       "       'las basuras no se recogen a tiempo.',\n",
       "       'la contaminación del río está aumentando.',\n",
       "       'no hay suficientes escuelas públicas.',\n",
       "       'hay problemas con la recolección de basura.',\n",
       "       'necesitamos más acceso a internet en la zona.',\n",
       "       'faltan médicos en el centro de salud.',\n",
       "       'falta agua potable en varias casas.',\n",
       "       'queremos más presencia policial.'], dtype=object)"
      ]
     },
     "execution_count": 14,
     "metadata": {},
     "output_type": "execute_result"
    }
   ],
   "source": [
    "df[\"Comentario\"].unique()"
   ]
  },
  {
   "cell_type": "code",
   "execution_count": 15,
   "id": "fdb0c16c-bf1b-46ea-bdeb-42d16b58cd85",
   "metadata": {},
   "outputs": [
    {
     "data": {
      "text/html": [
       "<div>\n",
       "<style scoped>\n",
       "    .dataframe tbody tr th:only-of-type {\n",
       "        vertical-align: middle;\n",
       "    }\n",
       "\n",
       "    .dataframe tbody tr th {\n",
       "        vertical-align: top;\n",
       "    }\n",
       "\n",
       "    .dataframe thead th {\n",
       "        text-align: right;\n",
       "    }\n",
       "</style>\n",
       "<table border=\"1\" class=\"dataframe\">\n",
       "  <thead>\n",
       "    <tr style=\"text-align: right;\">\n",
       "      <th></th>\n",
       "      <th>Nombre</th>\n",
       "      <th>Ciudad</th>\n",
       "      <th>Comentario</th>\n",
       "      <th>Categoría del problema</th>\n",
       "      <th>Nivel de urgencia</th>\n",
       "      <th>Fecha del reporte</th>\n",
       "      <th>Acceso a internet</th>\n",
       "      <th>Atención previa del gobierno</th>\n",
       "      <th>Zona rural</th>\n",
       "    </tr>\n",
       "  </thead>\n",
       "  <tbody>\n",
       "    <tr>\n",
       "      <th>0</th>\n",
       "      <td>Jorge</td>\n",
       "      <td>Manizales</td>\n",
       "      <td>las calles están muy oscuras y peligrosas.</td>\n",
       "      <td>Seguridad</td>\n",
       "      <td>Urgente</td>\n",
       "      <td>2023-08-11</td>\n",
       "      <td>0</td>\n",
       "      <td>1</td>\n",
       "      <td>0</td>\n",
       "    </tr>\n",
       "    <tr>\n",
       "      <th>1</th>\n",
       "      <td>Camilo</td>\n",
       "      <td>Santa Marta</td>\n",
       "      <td>no tenemos centros culturales ni bibliotecas.</td>\n",
       "      <td>Educación</td>\n",
       "      <td>No urgente</td>\n",
       "      <td>2023-04-12</td>\n",
       "      <td>1</td>\n",
       "      <td>1</td>\n",
       "      <td>1</td>\n",
       "    </tr>\n",
       "    <tr>\n",
       "      <th>2</th>\n",
       "      <td>Pedro</td>\n",
       "      <td>Medellín</td>\n",
       "      <td>las basuras no se recogen a tiempo.</td>\n",
       "      <td>Medio Ambiente</td>\n",
       "      <td>No urgente</td>\n",
       "      <td>2023-06-09</td>\n",
       "      <td>1</td>\n",
       "      <td>1</td>\n",
       "      <td>0</td>\n",
       "    </tr>\n",
       "    <tr>\n",
       "      <th>3</th>\n",
       "      <td>Ana</td>\n",
       "      <td>Bogotá</td>\n",
       "      <td>la contaminación del río está aumentando.</td>\n",
       "      <td>Medio Ambiente</td>\n",
       "      <td>No urgente</td>\n",
       "      <td>2023-06-04</td>\n",
       "      <td>0</td>\n",
       "      <td>1</td>\n",
       "      <td>1</td>\n",
       "    </tr>\n",
       "    <tr>\n",
       "      <th>4</th>\n",
       "      <td>Jorge</td>\n",
       "      <td>Manizales</td>\n",
       "      <td>no hay suficientes escuelas públicas.</td>\n",
       "      <td>Educación</td>\n",
       "      <td>Urgente</td>\n",
       "      <td>2024-07-10</td>\n",
       "      <td>1</td>\n",
       "      <td>0</td>\n",
       "      <td>1</td>\n",
       "    </tr>\n",
       "  </tbody>\n",
       "</table>\n",
       "</div>"
      ],
      "text/plain": [
       "   Nombre       Ciudad                                     Comentario  \\\n",
       "0   Jorge    Manizales     las calles están muy oscuras y peligrosas.   \n",
       "1  Camilo  Santa Marta  no tenemos centros culturales ni bibliotecas.   \n",
       "2   Pedro     Medellín            las basuras no se recogen a tiempo.   \n",
       "3     Ana       Bogotá      la contaminación del río está aumentando.   \n",
       "4   Jorge    Manizales          no hay suficientes escuelas públicas.   \n",
       "\n",
       "  Categoría del problema Nivel de urgencia Fecha del reporte  \\\n",
       "0              Seguridad           Urgente        2023-08-11   \n",
       "1              Educación        No urgente        2023-04-12   \n",
       "2         Medio Ambiente        No urgente        2023-06-09   \n",
       "3         Medio Ambiente        No urgente        2023-06-04   \n",
       "4              Educación           Urgente        2024-07-10   \n",
       "\n",
       "   Acceso a internet  Atención previa del gobierno  Zona rural  \n",
       "0                  0                             1           0  \n",
       "1                  1                             1           1  \n",
       "2                  1                             1           0  \n",
       "3                  0                             1           1  \n",
       "4                  1                             0           1  "
      ]
     },
     "execution_count": 15,
     "metadata": {},
     "output_type": "execute_result"
    }
   ],
   "source": [
    "df = df.drop(columns=['Edad', 'ID','Género'], errors='ignore')\n",
    "df['Fecha del reporte'] = pd.to_datetime(df['Fecha del reporte'], errors='coerce')\n",
    "df.head()"
   ]
  },
  {
   "cell_type": "code",
   "execution_count": 16,
   "id": "16c87284-fe16-45d3-926d-765ffe588fb9",
   "metadata": {},
   "outputs": [],
   "source": [
    "def extraer_por_columna(df, columna):\n",
    "    \"\"\"Devuelve las filas donde la columna indicada tiene valor 1.\"\"\"\n",
    "    return df[df[columna] == 'Urgente']\n"
   ]
  },
  {
   "cell_type": "code",
   "execution_count": 17,
   "id": "4cb0258b-7019-4135-a919-1a3fb8654db7",
   "metadata": {},
   "outputs": [
    {
     "name": "stdout",
     "output_type": "stream",
     "text": [
      "      Nombre     Ciudad                                     Comentario  \\\n",
      "0      Jorge  Manizales     las calles están muy oscuras y peligrosas.   \n",
      "4      Jorge  Manizales          no hay suficientes escuelas públicas.   \n",
      "7      Jorge     Bogotá          no hay suficientes escuelas públicas.   \n",
      "10     Pedro     Bogotá            falta agua potable en varias casas.   \n",
      "11       Ana  Manizales      la contaminación del río está aumentando.   \n",
      "...      ...        ...                                            ...   \n",
      "9986   María     Cúcuta     las calles están muy oscuras y peligrosas.   \n",
      "9991   Pedro    Pereira    hay problemas con la recolección de basura.   \n",
      "9994   María  Manizales          faltan médicos en el centro de salud.   \n",
      "9996  Carlos     Cúcuta    hay problemas con la recolección de basura.   \n",
      "9999   Pedro    Pereira  necesitamos más acceso a internet en la zona.   \n",
      "\n",
      "     Categoría del problema Nivel de urgencia Fecha del reporte  \\\n",
      "0                 Seguridad           Urgente        2023-08-11   \n",
      "4                 Educación           Urgente        2024-07-10   \n",
      "7                 Educación           Urgente        2023-04-23   \n",
      "10                    Salud           Urgente        2024-04-02   \n",
      "11           Medio Ambiente           Urgente        2023-03-14   \n",
      "...                     ...               ...               ...   \n",
      "9986              Seguridad           Urgente        2024-07-09   \n",
      "9991         Medio Ambiente           Urgente        2023-01-06   \n",
      "9994                  Salud           Urgente        2024-11-20   \n",
      "9996         Medio Ambiente           Urgente        2024-09-30   \n",
      "9999              Educación           Urgente        2024-07-25   \n",
      "\n",
      "      Acceso a internet  Atención previa del gobierno  Zona rural  \n",
      "0                     0                             1           0  \n",
      "4                     1                             0           1  \n",
      "7                     0                             1           0  \n",
      "10                    0                             1           0  \n",
      "11                    1                             1           1  \n",
      "...                 ...                           ...         ...  \n",
      "9986                  1                             1           1  \n",
      "9991                  0                             0           1  \n",
      "9994                  0                             0           1  \n",
      "9996                  0                             0           0  \n",
      "9999                  1                             0           0  \n",
      "\n",
      "[4588 rows x 9 columns]\n"
     ]
    }
   ],
   "source": [
    "acce_df = extraer_por_columna(df, \"Nivel de urgencia\")\n",
    "print(acce_df)\n"
   ]
  },
  {
   "cell_type": "code",
   "execution_count": 18,
   "id": "5ec3da6b-2f82-4ab8-963f-b8a0b8ae6a8f",
   "metadata": {},
   "outputs": [],
   "source": [
    "df = df.dropna(subset=[\"Categoría del problema\"])\n",
    "df.drop('Nombre', axis=1, inplace=True)"
   ]
  },
  {
   "cell_type": "markdown",
   "id": "0d57bef2",
   "metadata": {},
   "source": [
    "## Modelo de predicción de urgencia\n",
    "\n",
    "Entrada: texto del comentario + variables opcionales como `Zona rural`, `Atención previa`, `Acceso a internet`.\n",
    "\n",
    "Salida: `Urgente` o `No urgente` (binario).\n",
    "\n",
    "Descripción: El siguiente notebook prepara los datos, vectoriza el texto con TF-IDF, codifica variables categóricas y entrena un clasificador (Regresión Logística con balanceo de clases). Se guarda el modelo en `urgency_model.joblib`.\n",
    "\n",
    "Notas: El código maneja columnas ausentes y valores nulos. Ajusta los nombres de columna si tu dataset usa otros nombres."
   ]
  },
  {
   "cell_type": "code",
   "execution_count": 19,
   "id": "95e79c34",
   "metadata": {},
   "outputs": [
    {
     "data": {
      "text/plain": [
       "\"\\nimport seaborn as sns\\nfrom sklearn.model_selection import train_test_split\\nfrom sklearn.feature_extraction.text import TfidfVectorizer\\nfrom sklearn.preprocessing import OneHotEncoder\\nfrom sklearn.compose import ColumnTransformer\\nfrom sklearn.pipeline import Pipeline\\nfrom sklearn.ensemble import RandomForestClassifier\\nfrom sklearn.metrics import classification_report, confusion_matrix\\n\\n# Stopwords en español\\nfrom nltk.corpus import stopwords\\nimport nltk\\nnltk.download('stopwords')\""
      ]
     },
     "execution_count": 19,
     "metadata": {},
     "output_type": "execute_result"
    }
   ],
   "source": [
    "'''\n",
    "import seaborn as sns\n",
    "from sklearn.model_selection import train_test_split\n",
    "from sklearn.feature_extraction.text import TfidfVectorizer\n",
    "from sklearn.preprocessing import OneHotEncoder\n",
    "from sklearn.compose import ColumnTransformer\n",
    "from sklearn.pipeline import Pipeline\n",
    "from sklearn.ensemble import RandomForestClassifier\n",
    "from sklearn.metrics import classification_report, confusion_matrix\n",
    "\n",
    "# Stopwords en español\n",
    "from nltk.corpus import stopwords\n",
    "import nltk\n",
    "nltk.download('stopwords')'''\n"
   ]
  },
  {
   "cell_type": "code",
   "execution_count": 20,
   "id": "62546161",
   "metadata": {},
   "outputs": [
    {
     "data": {
      "text/plain": [
       "'\\n# Variables de entrada (predictoras)\\nX = df[[\\'Comentario\\', \\'Zona rural\\', \\'Acceso a internet\\', \\'Atención previa del gobierno\\']]\\n\\n# Variable objetivo (salida)\\ny = df[\\'Nivel de urgencia\\']\\n\\n# Lista de stopwords en español\\nstopwords_es = stopwords.words(\\'spanish\\')\\n\\n# Dividir los datos en entrenamiento y prueba\\nX_train, X_test, y_train, y_test = train_test_split(\\n    X, y, test_size=0.35, random_state=42, stratify=y\\n)\\n\\n# Preprocesamiento: texto + variables numéricas\\npreprocesador = ColumnTransformer(\\n    transformers=[\\n        (\\'texto\\', TfidfVectorizer(stop_words=stopwords_es, ngram_range=(1,2), max_df=0.9, min_df=3), \\'Comentario\\'),\\n        (\\'numericas\\', \\'passthrough\\', [\\'Zona rural\\', \\'Acceso a internet\\', \\'Atención previa del gobierno\\'])\\n    ]\\n)\\n\\n# Pipeline final\\nmodelo_urgencia = Pipeline(steps=[\\n    (\\'preprocesamiento\\', preprocesador),\\n    (\\'clasificador\\', RandomForestClassifier(\\n        n_estimators=200,\\n        random_state=42,\\n        class_weight=\\'balanced\\'\\n    ))\\n])\\n\\n# Entrenamiento del modelo\\nmodelo_urgencia.fit(X_train, y_train)\\n# Predicciones\\ny_pred = modelo_urgencia.predict(X_test)\\n\\n# Reporte de métricas\\nprint(\"📊 Reporte de Clasificación:\")\\nprint(classification_report(y_test, y_pred))\\n'"
      ]
     },
     "execution_count": 20,
     "metadata": {},
     "output_type": "execute_result"
    }
   ],
   "source": [
    "'''\n",
    "# Variables de entrada (predictoras)\n",
    "X = df[['Comentario', 'Zona rural', 'Acceso a internet', 'Atención previa del gobierno']]\n",
    "\n",
    "# Variable objetivo (salida)\n",
    "y = df['Nivel de urgencia']\n",
    "\n",
    "# Lista de stopwords en español\n",
    "stopwords_es = stopwords.words('spanish')\n",
    "\n",
    "# Dividir los datos en entrenamiento y prueba\n",
    "X_train, X_test, y_train, y_test = train_test_split(\n",
    "    X, y, test_size=0.35, random_state=42, stratify=y\n",
    ")\n",
    "\n",
    "# Preprocesamiento: texto + variables numéricas\n",
    "preprocesador = ColumnTransformer(\n",
    "    transformers=[\n",
    "        ('texto', TfidfVectorizer(stop_words=stopwords_es, ngram_range=(1,2), max_df=0.9, min_df=3), 'Comentario'),\n",
    "        ('numericas', 'passthrough', ['Zona rural', 'Acceso a internet', 'Atención previa del gobierno'])\n",
    "    ]\n",
    ")\n",
    "\n",
    "# Pipeline final\n",
    "modelo_urgencia = Pipeline(steps=[\n",
    "    ('preprocesamiento', preprocesador),\n",
    "    ('clasificador', RandomForestClassifier(\n",
    "        n_estimators=200,\n",
    "        random_state=42,\n",
    "        class_weight='balanced'\n",
    "    ))\n",
    "])\n",
    "\n",
    "# Entrenamiento del modelo\n",
    "modelo_urgencia.fit(X_train, y_train)\n",
    "# Predicciones\n",
    "y_pred = modelo_urgencia.predict(X_test)\n",
    "\n",
    "# Reporte de métricas\n",
    "print(\"📊 Reporte de Clasificación:\")\n",
    "print(classification_report(y_test, y_pred))\n",
    "'''"
   ]
  },
  {
   "cell_type": "code",
   "execution_count": 21,
   "id": "300a1084",
   "metadata": {},
   "outputs": [
    {
     "data": {
      "text/plain": [
       "'\\n# Matriz de confusión visual\\nplt.figure(figsize=(5,4))\\nsns.heatmap(confusion_matrix(y_test, y_pred), annot=True, fmt=\\'d\\', cmap=\\'Blues\\')\\nplt.title(\"Matriz de Confusión - Nivel de Urgencia\")\\nplt.xlabel(\"Predicho\")\\nplt.ylabel(\"Real\")\\nplt.show()'"
      ]
     },
     "execution_count": 21,
     "metadata": {},
     "output_type": "execute_result"
    }
   ],
   "source": [
    "'''\n",
    "# Matriz de confusión visual\n",
    "plt.figure(figsize=(5,4))\n",
    "sns.heatmap(confusion_matrix(y_test, y_pred), annot=True, fmt='d', cmap='Blues')\n",
    "plt.title(\"Matriz de Confusión - Nivel de Urgencia\")\n",
    "plt.xlabel(\"Predicho\")\n",
    "plt.ylabel(\"Real\")\n",
    "plt.show()'''\n"
   ]
  },
  {
   "cell_type": "markdown",
   "id": "8d5f4c73",
   "metadata": {},
   "source": [
    "PROBAR CON NUEVO COMENTARIO\n"
   ]
  },
  {
   "cell_type": "code",
   "execution_count": 22,
   "id": "c70e4f39",
   "metadata": {},
   "outputs": [
    {
     "data": {
      "text/plain": [
       "'# Ejemplo de nuevo comentario\\nnuevo = pd.DataFrame({\\n    \\'Comentario\\': [\"faltan médicos en el centro de salud\"],\\n    \\'Zona rural\\': [0],\\n    \\'Acceso a internet\\': [1],\\n    \\'Atención previa del gobierno\\': [0]\\n})\\n\\nprediccion = modelo_urgencia.predict(nuevo)[0]\\nprint(f\"🔮 Predicción del modelo: {prediccion}\")'"
      ]
     },
     "execution_count": 22,
     "metadata": {},
     "output_type": "execute_result"
    }
   ],
   "source": [
    "'''# Ejemplo de nuevo comentario\n",
    "nuevo = pd.DataFrame({\n",
    "    'Comentario': [\"faltan médicos en el centro de salud\"],\n",
    "    'Zona rural': [0],\n",
    "    'Acceso a internet': [1],\n",
    "    'Atención previa del gobierno': [0]\n",
    "})\n",
    "\n",
    "prediccion = modelo_urgencia.predict(nuevo)[0]\n",
    "print(f\"🔮 Predicción del modelo: {prediccion}\")'''"
   ]
  },
  {
   "cell_type": "code",
   "execution_count": 29,
   "id": "f7a101ba",
   "metadata": {},
   "outputs": [
    {
     "ename": "ModuleNotFoundError",
     "evalue": "No module named 'xgboost'",
     "output_type": "error",
     "traceback": [
      "\u001b[1;31m---------------------------------------------------------------------------\u001b[0m",
      "\u001b[1;31mModuleNotFoundError\u001b[0m                       Traceback (most recent call last)",
      "Cell \u001b[1;32mIn[29], line 13\u001b[0m\n\u001b[0;32m     10\u001b[0m \u001b[38;5;28;01mfrom\u001b[39;00m\u001b[38;5;250m \u001b[39m\u001b[38;5;21;01msklearn\u001b[39;00m\u001b[38;5;21;01m.\u001b[39;00m\u001b[38;5;21;01mmetrics\u001b[39;00m\u001b[38;5;250m \u001b[39m\u001b[38;5;28;01mimport\u001b[39;00m classification_report, confusion_matrix\n\u001b[0;32m     12\u001b[0m \u001b[38;5;66;03m# XGBoost\u001b[39;00m\n\u001b[1;32m---> 13\u001b[0m \u001b[38;5;28;01mfrom\u001b[39;00m\u001b[38;5;250m \u001b[39m\u001b[38;5;21;01mxgboost\u001b[39;00m\u001b[38;5;250m \u001b[39m\u001b[38;5;28;01mimport\u001b[39;00m XGBClassifier\n\u001b[0;32m     15\u001b[0m \u001b[38;5;66;03m# Stopwords en español\u001b[39;00m\n\u001b[0;32m     16\u001b[0m \u001b[38;5;28;01mfrom\u001b[39;00m\u001b[38;5;250m \u001b[39m\u001b[38;5;21;01mnltk\u001b[39;00m\u001b[38;5;21;01m.\u001b[39;00m\u001b[38;5;21;01mcorpus\u001b[39;00m\u001b[38;5;250m \u001b[39m\u001b[38;5;28;01mimport\u001b[39;00m stopwords\n",
      "\u001b[1;31mModuleNotFoundError\u001b[0m: No module named 'xgboost'"
     ]
    }
   ],
   "source": [
    "import pandas as pd\n",
    "import numpy as np\n",
    "import matplotlib.pyplot as plt\n",
    "import seaborn as sns\n",
    "\n",
    "from sklearn.model_selection import train_test_split\n",
    "from sklearn.feature_extraction.text import TfidfVectorizer\n",
    "from sklearn.compose import ColumnTransformer\n",
    "from sklearn.pipeline import Pipeline\n",
    "from sklearn.metrics import classification_report, confusion_matrix\n",
    "\n",
    "# XGBoost\n",
    "from xgboost import XGBClassifier\n",
    "\n",
    "# Stopwords en español\n",
    "from nltk.corpus import stopwords\n",
    "import nltk\n",
    "nltk.download('stopwords')\n"
   ]
  },
  {
   "cell_type": "code",
   "execution_count": 24,
   "id": "e0917544",
   "metadata": {},
   "outputs": [],
   "source": [
    "# Palabras asociadas a urgencia\n",
    "palabras_urgencia = ['falta', 'no hay', 'peligro', 'oscuro', 'médico', 'contaminación', 'robo']\n",
    "\n",
    "df['Puntaje_urgencia'] = df['Comentario'].str.lower().apply(\n",
    "    lambda x: sum(palabra in x for palabra in palabras_urgencia)\n",
    ")\n",
    "\n",
    "# Variables predictoras y objetivo\n",
    "X = df[['Comentario', 'Zona rural', 'Acceso a internet', 'Atención previa del gobierno', 'Puntaje_urgencia']]\n",
    "y = df['Nivel de urgencia']\n",
    "\n",
    "# División de datos\n",
    "X_train, X_test, y_train, y_test = train_test_split(\n",
    "    X, y, test_size=0.25, random_state=42, stratify=y\n",
    ")\n"
   ]
  },
  {
   "cell_type": "code",
   "execution_count": null,
   "id": "1514b430",
   "metadata": {},
   "outputs": [],
   "source": [
    "# Stopwords en español\n",
    "stopwords_es = stopwords.words('spanish')\n",
    "\n",
    "# Preprocesamiento de texto + numéricas\n",
    "preprocesador = ColumnTransformer(\n",
    "    transformers=[\n",
    "        ('texto', TfidfVectorizer(stop_words=stopwords_es, ngram_range=(1,2), max_df=0.9, min_df=2), 'Comentario'),\n",
    "        ('numericas', 'passthrough', ['Zona rural', 'Acceso a internet', 'Atención previa del gobierno', 'Puntaje_urgencia'])\n",
    "    ]\n",
    ")\n",
    "\n",
    "# Modelo XGBoost integrado en Pipeline\n",
    "modelo_urgencia = Pipeline(steps=[\n",
    "    ('preprocesamiento', preprocesador),\n",
    "    ('clasificador', XGBClassifier(\n",
    "        n_estimators=300,\n",
    "        learning_rate=0.1,\n",
    "        max_depth=6,\n",
    "        subsample=0.8,\n",
    "        colsample_bytree=0.8,\n",
    "        eval_metric='mlogloss',\n",
    "        use_label_encoder=False,\n",
    "        random_state=42\n",
    "    ))\n",
    "])\n"
   ]
  },
  {
   "cell_type": "code",
   "execution_count": null,
   "id": "0bb8fbc0",
   "metadata": {},
   "outputs": [],
   "source": [
    "modelo_urgencia.fit(X_train, y_train)\n",
    "print(\"✅ Modelo XGBoost entrenado correctamente.\")\n"
   ]
  },
  {
   "cell_type": "code",
   "execution_count": null,
   "id": "ec7e389f",
   "metadata": {},
   "outputs": [],
   "source": [
    "# Predicciones\n",
    "y_pred = modelo_urgencia.predict(X_test)\n",
    "\n",
    "# Reporte detallado\n",
    "print(\"\\n📈 Reporte de Clasificación (XGBoost):\\n\")\n",
    "print(classification_report(y_test, y_pred))\n",
    "\n",
    "# Matriz de confusión visual\n",
    "plt.figure(figsize=(5,4))\n",
    "sns.heatmap(confusion_matrix(y_test, y_pred), annot=True, fmt='d', cmap='Greens')\n",
    "plt.title(\"Matriz de Confusión - Nivel de Urgencia (XGBoost)\")\n",
    "plt.xlabel(\"Predicho\")\n",
    "plt.ylabel(\"Real\")\n",
    "plt.show()\n"
   ]
  },
  {
   "cell_type": "code",
   "execution_count": null,
   "id": "0b10a749",
   "metadata": {},
   "outputs": [],
   "source": [
    "# Ejemplo práctico\n",
    "nuevo_reporte = pd.DataFrame({\n",
    "    'Comentario': [\"las calles están muy oscuras y peligrosas\"],\n",
    "    'Zona rural': [1],\n",
    "    'Acceso a internet': [0],\n",
    "    'Atención previa del gobierno': [0],\n",
    "    'Puntaje_urgencia': [2]\n",
    "})\n",
    "\n",
    "prediccion = modelo_urgencia.predict(nuevo_reporte)[0]\n",
    "print(f\"🔮 Predicción del modelo: {prediccion}\")\n"
   ]
  }
 ],
 "metadata": {
  "kernelspec": {
   "display_name": "base",
   "language": "python",
   "name": "python3"
  },
  "language_info": {
   "codemirror_mode": {
    "name": "ipython",
    "version": 3
   },
   "file_extension": ".py",
   "mimetype": "text/x-python",
   "name": "python",
   "nbconvert_exporter": "python",
   "pygments_lexer": "ipython3",
   "version": "3.13.5"
  }
 },
 "nbformat": 4,
 "nbformat_minor": 5
}
